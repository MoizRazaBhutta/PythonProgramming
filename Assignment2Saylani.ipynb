{
 "cells": [
  {
   "cell_type": "code",
   "execution_count": 4,
   "metadata": {},
   "outputs": [
    {
     "name": "stdout",
     "output_type": "stream",
     "text": [
      "Maths marks:100\n",
      "Physics marks:98\n",
      "Chemistry marks:89\n",
      "Biology marks:80\n",
      "English marks:75\n",
      "Total marks:442\n",
      "A grade\n"
     ]
    }
   ],
   "source": [
    "Maths=int(input('Maths marks:'))\n",
    "Physics=int(input('Physics marks:'))\n",
    "Chemistry=int(input('Chemistry marks:'))\n",
    "Biology=int(input('Biology marks:'))\n",
    "English=int(input('English marks:'))\n",
    "Total_marks=Maths+Physics+Chemistry+Biology+English\n",
    "#print('Maths Marks:'+str(Maths))\n",
    "#print('Physics Marks:'+str(Physics))\n",
    "#print('Chemistry Marks:'+str(Chemistry))\n",
    "#print('Biology Marks:'+str(Biology)\n",
    "#print('English Marks:'+str(English))\n",
    "print('Total marks:'+str(Total_marks))\n",
    "percentage=(Total_marks/500)*100\n",
    "if percentage>=80:\n",
    "    print('A grade')\n",
    "elif percentage<80 and percentage>=70:\n",
    "    print('B grade')\n",
    "elif percentage<70 and percentage>=60:\n",
    "    print('C grade')\n",
    "elif percentage<60 and percentage>=50:\n",
    "    print('D grade')\n",
    "else:\n",
    "    print('Failed')\n"
   ]
  },
  {
   "cell_type": "code",
   "execution_count": 5,
   "metadata": {},
   "outputs": [
    {
     "name": "stdout",
     "output_type": "stream",
     "text": [
      "Enter a number:11\n",
      "Number is odd\n"
     ]
    }
   ],
   "source": [
    "a=int(input('Enter a number:'))\n",
    "if a%2==0:\n",
    "    print('Number is even')\n",
    "else:\n",
    "    print('Number is odd')"
   ]
  },
  {
   "cell_type": "code",
   "execution_count": 4,
   "metadata": {},
   "outputs": [
    {
     "name": "stdout",
     "output_type": "stream",
     "text": [
      "Enter any value: 10\n",
      "Enter any value: 20\n",
      "Enter any value: 30\n",
      "Enter any value: abc\n",
      "Enter any value: def\n",
      "Enter any value: exit\n",
      "length of list is: 5\n",
      "['10', '20', '30', 'abc', 'def']\n"
     ]
    }
   ],
   "source": [
    "a=[]\n",
    "b=0\n",
    "while b!='exit':\n",
    "    b=input('Enter any value: ')\n",
    "    if b!='exit':\n",
    "        a.append(b)\n",
    "print('length of list is:',len(a))\n",
    "print(a)\n"
   ]
  },
  {
   "cell_type": "code",
   "execution_count": 6,
   "metadata": {},
   "outputs": [
    {
     "name": "stdout",
     "output_type": "stream",
     "text": [
      "Enter any number: 10\n",
      "Enter any number: 20\n",
      "Enter any number: 30\n",
      "Enter any number: 40\n",
      "Enter any number: exit\n",
      "sum of list: 100\n",
      "[10, 20, 30, 40]\n"
     ]
    }
   ],
   "source": [
    "a=[]\n",
    "b=0\n",
    "while b!='exit':\n",
    "    b=input('Enter any number: ')\n",
    "    if b!='exit':\n",
    "        a.append(int(b))    \n",
    "print('sum of list:',sum(a))\n",
    "print(a)"
   ]
  },
  {
   "cell_type": "code",
   "execution_count": 7,
   "metadata": {},
   "outputs": [
    {
     "name": "stdout",
     "output_type": "stream",
     "text": [
      "Enter any number: 10\n",
      "Enter any number: 20\n",
      "Enter any number: 30\n",
      "Enter any number: 40\n",
      "Enter any number: exit\n",
      "Largest value of list: 40\n",
      "[10, 20, 30, 40]\n"
     ]
    }
   ],
   "source": [
    "a=[]\n",
    "b=0\n",
    "while b!='exit':\n",
    "    b=input('Enter any number: ')\n",
    "    if b!='exit':\n",
    "        a.append(int(b))\n",
    "print('Largest value of list:',max(a))\n",
    "print(a)"
   ]
  },
  {
   "cell_type": "code",
   "execution_count": 11,
   "metadata": {},
   "outputs": [
    {
     "name": "stdout",
     "output_type": "stream",
     "text": [
      "Enter any number: 10\n",
      "Enter any number: 29\n",
      "Enter any number: 30\n",
      "Enter any number: 4\n",
      "Enter any number: 3\n",
      "Enter any number: 2\n",
      "Enter any number: 4\n",
      "Enter any number: 1\n",
      "Enter any number: exit\n",
      "original list: [10, 29, 30, 4, 3, 2, 4, 1]\n",
      "list with number less than 5 ['4', '3', '2', '4', '1']\n"
     ]
    }
   ],
   "source": [
    "a=[]\n",
    "b=0\n",
    "c=[]\n",
    "while b!='exit':\n",
    "    b=input('Enter any number: ')\n",
    "    if b!='exit':\n",
    "        a.append(int(b))\n",
    "        if int(b)<5:\n",
    "            c.append(b)\n",
    "print('original list:',a)\n",
    "print('list with number less than 5',c)\n"
   ]
  }
 ],
 "metadata": {
  "kernelspec": {
   "display_name": "Python 3",
   "language": "python",
   "name": "python3"
  },
  "language_info": {
   "codemirror_mode": {
    "name": "ipython",
    "version": 3
   },
   "file_extension": ".py",
   "mimetype": "text/x-python",
   "name": "python",
   "nbconvert_exporter": "python",
   "pygments_lexer": "ipython3",
   "version": "3.7.3"
  }
 },
 "nbformat": 4,
 "nbformat_minor": 2
}
