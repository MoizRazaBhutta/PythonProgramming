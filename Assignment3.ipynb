{
 "cells": [
  {
   "cell_type": "code",
   "execution_count": 3,
   "metadata": {},
   "outputs": [
    {
     "name": "stdout",
     "output_type": "stream",
     "text": [
      "First number:3\n",
      "Second number:3\n",
      "Operator:**\n",
      "27\n"
     ]
    }
   ],
   "source": [
    "a=int(input(\"First number:\"))\n",
    "b=int(input(\"Second number:\"))\n",
    "c=input(\"Operator:\")\n",
    "if c==\"+\":\n",
    "    d=a+b\n",
    "    print(d)\n",
    "if c==\"-\":\n",
    "    d=a-b\n",
    "    print(d)\n",
    "if c==\"*\":\n",
    "    d=a*b\n",
    "    print(d)\n",
    "if c==\"/\":\n",
    "    d=a/b\n",
    "    print(d)\n",
    "if c==\"**\":\n",
    "    d=a**b\n",
    "    print(d)\n"
   ]
  },
  {
   "cell_type": "code",
   "execution_count": 6,
   "metadata": {},
   "outputs": [
    {
     "name": "stdout",
     "output_type": "stream",
     "text": [
      "Yes there is numeric value in list\n"
     ]
    }
   ],
   "source": [
    "a=['a','b','c','1','2','3']\n",
    "for b in a:\n",
    "    if b.isdigit():\n",
    "        c=True\n",
    "    else:\n",
    "        c=False\n",
    "if c==True:\n",
    "    print('Yes there is numeric value in list')\n",
    "else:\n",
    "    print('No numeric value in list')"
   ]
  },
  {
   "cell_type": "code",
   "execution_count": 1,
   "metadata": {},
   "outputs": [
    {
     "name": "stdout",
     "output_type": "stream",
     "text": [
      "Any key to be added in dict:World\n",
      "Value of that key:20\n",
      "{'Moiz': 20, 'Raza': 10, 'Hello': 15, 'World': '20'}\n"
     ]
    }
   ],
   "source": [
    "dic={'Moiz':20,'Raza':10,'Hello':15}\n",
    "a=input('Any key to be added in dict:')\n",
    "b=input('Value of that key:')\n",
    "dic[a]=b \n",
    "print(dic)"
   ]
  },
  {
   "cell_type": "code",
   "execution_count": 24,
   "metadata": {},
   "outputs": [
    {
     "name": "stdout",
     "output_type": "stream",
     "text": [
      "45\n"
     ]
    }
   ],
   "source": [
    "dic={'Moiz':'20','Raza':'10','Hello':'15','Bye':'Hi'}\n",
    "a=0\n",
    "s=0\n",
    "for a in dic:\n",
    "    if dic[a].isdigit():\n",
    "        s=s+int(dic[a])\n",
    "print(s)"
   ]
  },
  {
   "cell_type": "code",
   "execution_count": 36,
   "metadata": {},
   "outputs": [
    {
     "name": "stdout",
     "output_type": "stream",
     "text": [
      "There is a repeated value: abc\n",
      "There is a repeated value: def\n",
      "There is a repeated value: abc\n",
      "There is a repeated value: def\n"
     ]
    }
   ],
   "source": [
    "li=['abc','def','abc','Hi','Bye','def']\n",
    "for a in li:\n",
    "    count=0\n",
    "    for b in li:\n",
    "       if b==a:\n",
    "        count=count+1\n",
    "        if count>1:\n",
    "            print('There is a repeated value:',a)\n",
    "\n",
    "    "
   ]
  },
  {
   "cell_type": "code",
   "execution_count": 1,
   "metadata": {},
   "outputs": [
    {
     "name": "stdout",
     "output_type": "stream",
     "text": [
      "Any key:Moiz\n",
      "This key is present in a dictionay\n"
     ]
    }
   ],
   "source": [
    "dic={'Moiz':'20','Raza':'10','Hello':'15','Bye':'Hi'}\n",
    "x=input('Any key:')\n",
    "if x in dic:\n",
    "    print(\"This key is present in a dictionay\")\n",
    "else:\n",
    "    print('No this key is not present in the dictionary')\n",
    "    "
   ]
  }
 ],
 "metadata": {
  "kernelspec": {
   "display_name": "Python 3",
   "language": "python",
   "name": "python3"
  },
  "language_info": {
   "codemirror_mode": {
    "name": "ipython",
    "version": 3
   },
   "file_extension": ".py",
   "mimetype": "text/x-python",
   "name": "python",
   "nbconvert_exporter": "python",
   "pygments_lexer": "ipython3",
   "version": "3.7.3"
  }
 },
 "nbformat": 4,
 "nbformat_minor": 2
}
