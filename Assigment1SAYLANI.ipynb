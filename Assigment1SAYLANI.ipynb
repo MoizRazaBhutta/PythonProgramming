{
 "cells": [
  {
   "cell_type": "code",
   "execution_count": 2,
   "metadata": {},
   "outputs": [
    {
     "name": "stdout",
     "output_type": "stream",
     "text": [
      "Twinkle, twinkle, little star,\n",
      "\t How I wonder what you are!\n",
      "\t\t Up above the world so high\n",
      "\t\t Like a diamond in the sky.\n",
      "Twinkle, twinkle, little star,\n",
      "\t How I wonder what you are\n"
     ]
    }
   ],
   "source": [
    "print('Twinkle, twinkle, little star,\\n'+'\\t How I wonder what you are!\\n'\n",
    "      +'\\t'+'\\t Up above the world so high\\n'+'\\t'+'\\t Like a diamond in the sky.\\n'+'Twinkle, twinkle, little star,\\n'+'\\t How I wonder what you are')\n"
   ]
  },
  {
   "cell_type": "code",
   "execution_count": 3,
   "metadata": {},
   "outputs": [
    {
     "name": "stdout",
     "output_type": "stream",
     "text": [
      "3.7.3 (default, Mar 27 2019, 17:13:21) [MSC v.1915 64 bit (AMD64)]\n"
     ]
    }
   ],
   "source": [
    "import sys\n",
    "print(sys.version)"
   ]
  },
  {
   "cell_type": "code",
   "execution_count": 4,
   "metadata": {},
   "outputs": [
    {
     "name": "stdout",
     "output_type": "stream",
     "text": [
      "2019-11-04 18:01:03.734668\n"
     ]
    }
   ],
   "source": [
    "import datetime\n",
    "print(datetime.datetime.now())"
   ]
  },
  {
   "cell_type": "code",
   "execution_count": 6,
   "metadata": {},
   "outputs": [
    {
     "name": "stdout",
     "output_type": "stream",
     "text": [
      "Enter Radius of circle:10\n",
      "314.1592653589793\n"
     ]
    }
   ],
   "source": [
    "import numpy as np\n",
    "r=input('Enter Radius of circle:')\n",
    "A=np.pi*(int(r)**2)\n",
    "print(A)\n"
   ]
  },
  {
   "cell_type": "code",
   "execution_count": 7,
   "metadata": {},
   "outputs": [
    {
     "name": "stdout",
     "output_type": "stream",
     "text": [
      "Enter your first name:Moiz\n",
      "Enter your last name:Raza\n",
      "Raza Moiz\n"
     ]
    }
   ],
   "source": [
    "First=input('Enter your first name:')\n",
    "Last=input('Enter your last name:')\n",
    "print(Last,First)\n"
   ]
  },
  {
   "cell_type": "code",
   "execution_count": 8,
   "metadata": {},
   "outputs": [
    {
     "name": "stdout",
     "output_type": "stream",
     "text": [
      "Enter First number:10\n",
      "Enter Second number:20\n",
      "30\n"
     ]
    }
   ],
   "source": [
    "a=input('Enter First number:')\n",
    "b=input('Enter Second number:')\n",
    "c=int(a)+int(b)\n",
    "print(c)\n"
   ]
  }
 ],
 "metadata": {
  "kernelspec": {
   "display_name": "Python 3",
   "language": "python",
   "name": "python3"
  },
  "language_info": {
   "codemirror_mode": {
    "name": "ipython",
    "version": 3
   },
   "file_extension": ".py",
   "mimetype": "text/x-python",
   "name": "python",
   "nbconvert_exporter": "python",
   "pygments_lexer": "ipython3",
   "version": "3.7.3"
  }
 },
 "nbformat": 4,
 "nbformat_minor": 2
}
