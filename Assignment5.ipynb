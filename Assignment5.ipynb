{
 "cells": [
  {
   "cell_type": "markdown",
   "metadata": {},
   "source": [
    "# Name: Abdul Moiz Raza\n",
    "# Assignment no.5 Python"
   ]
  },
  {
   "cell_type": "markdown",
   "metadata": {},
   "source": [
    "Write a Python function to calculate the factorial of a number (a non-negative\n",
    "integer). The function accepts the number as an argument."
   ]
  },
  {
   "cell_type": "code",
   "execution_count": 24,
   "metadata": {},
   "outputs": [
    {
     "name": "stdout",
     "output_type": "stream",
     "text": [
      "Enter num for factorial:3\n",
      "Factorial of 3 is 6\n"
     ]
    }
   ],
   "source": [
    "def factorial(num):\n",
    "    result=1\n",
    "    if num==0 or num==1:\n",
    "        result=1\n",
    "    else:\n",
    "        for i in range(1,num+1):\n",
    "            result=result*i\n",
    "    return result\n",
    "a=int(input('Enter num for factorial:'))\n",
    "if a<0:\n",
    "    print('Factorial not possible')\n",
    "else:\n",
    "    result=factorial(a)\n",
    "    print('Factorial of '+str(a)+' is '+ str(result))"
   ]
  },
  {
   "cell_type": "markdown",
   "metadata": {},
   "source": [
    "Write a Python function that accepts a string and calculate the number of upper\n",
    "case letters and lower case letters."
   ]
  },
  {
   "cell_type": "code",
   "execution_count": 31,
   "metadata": {},
   "outputs": [
    {
     "name": "stdout",
     "output_type": "stream",
     "text": [
      "Enter any string:Hey! World how are you?\n",
      "No of upper case letters are: 2\n",
      "No of lower case letters are: 15\n"
     ]
    }
   ],
   "source": [
    "def countletter(a):\n",
    "    ucount=0\n",
    "    dcount=0\n",
    "    for b in a:\n",
    "        if b.isupper():\n",
    "            ucount=ucount+1\n",
    "        if b.islower():\n",
    "            dcount=dcount+1\n",
    "        else:\n",
    "            continue\n",
    "    return ucount,dcount\n",
    "a=input('Enter any string:')\n",
    "u,d=countletter(a)\n",
    "print('No of upper case letters are: '+str(u))\n",
    "print('No of lower case letters are: '+str(d))\n"
   ]
  },
  {
   "cell_type": "markdown",
   "metadata": {},
   "source": [
    "Write a Python function to print the even numbers from a given list."
   ]
  },
  {
   "cell_type": "code",
   "execution_count": 38,
   "metadata": {},
   "outputs": [
    {
     "name": "stdout",
     "output_type": "stream",
     "text": [
      "[2, 4, 4]\n"
     ]
    }
   ],
   "source": [
    "def evenlist(list1):\n",
    "    list2=[]\n",
    "    for a in list1:\n",
    "        if type(a)==str:\n",
    "            continue\n",
    "        elif type(a)==int:\n",
    "            if a%2==0:\n",
    "                list2.append(a)\n",
    "            else:\n",
    "                continue\n",
    "    return list2\n",
    "li=[2,3,4,5,3,4,'Bye','Hello']\n",
    "b=evenlist(li)\n",
    "print(b)"
   ]
  },
  {
   "cell_type": "markdown",
   "metadata": {},
   "source": [
    "Write a Python function that checks whether a passed string is palindrome or not.\n",
    "Note: A palindrome is a word, phrase, or sequence that reads the same\n",
    "backward as forward, e.g., madam"
   ]
  },
  {
   "cell_type": "code",
   "execution_count": 50,
   "metadata": {},
   "outputs": [
    {
     "name": "stdout",
     "output_type": "stream",
     "text": [
      "True\n"
     ]
    }
   ],
   "source": [
    "def isPalindrom(string):\n",
    "    b=string.lower() #for equating all characters of a word\n",
    "    if b==b[::-1]: #to calculate its reverse to be same\n",
    "        return True\n",
    "    else:\n",
    "        return False\n",
    "a='Madam'\n",
    "d=isPalindrom(a)\n",
    "print(d)"
   ]
  },
  {
   "cell_type": "markdown",
   "metadata": {},
   "source": [
    "Write a Python function that takes a number as a parameter and check the\n",
    "number is prime or not."
   ]
  },
  {
   "cell_type": "code",
   "execution_count": 72,
   "metadata": {},
   "outputs": [
    {
     "name": "stdout",
     "output_type": "stream",
     "text": [
      "1009 is a prime number\n"
     ]
    }
   ],
   "source": [
    "#parameter is called within definition while argument is defined when fucntion is called\n",
    "def isPrime(num=1009):\n",
    "    count=0\n",
    "    for a in range(1,num+1):\n",
    "        b=num/a\n",
    "        if num==1:\n",
    "            continue\n",
    "        elif b%1==0:\n",
    "            count=count+1\n",
    "    if count>=3:\n",
    "        print(str(num)+' is not a prime number')\n",
    "    else:\n",
    "        print(str(num)+' is a prime number')\n",
    "a=isPrime()\n"
   ]
  },
  {
   "cell_type": "markdown",
   "metadata": {},
   "source": [
    "Suppose a customer is shopping in a market and you need to print all the items\n",
    "which user bought from market.\n",
    "Write a function which accepts the multiple arguments of user shopping list and\n",
    "print all the items which user bought from market."
   ]
  },
  {
   "cell_type": "code",
   "execution_count": 78,
   "metadata": {},
   "outputs": [
    {
     "name": "stdout",
     "output_type": "stream",
     "text": [
      "Items you bought are:  [{'item1': 'Sugar', 'item2': 'Moiz'}]\n"
     ]
    }
   ],
   "source": [
    "def items(**arg):\n",
    "    list1=[]\n",
    "    list1.append(arg)\n",
    "    return list1\n",
    "a=items(item1='Sugar',item2='Moiz')\n",
    "print('Items you bought are: ',a)"
   ]
  }
 ],
 "metadata": {
  "kernelspec": {
   "display_name": "Python 3",
   "language": "python",
   "name": "python3"
  },
  "language_info": {
   "codemirror_mode": {
    "name": "ipython",
    "version": 3
   },
   "file_extension": ".py",
   "mimetype": "text/x-python",
   "name": "python",
   "nbconvert_exporter": "python",
   "pygments_lexer": "ipython3",
   "version": "3.7.3"
  }
 },
 "nbformat": 4,
 "nbformat_minor": 2
}
