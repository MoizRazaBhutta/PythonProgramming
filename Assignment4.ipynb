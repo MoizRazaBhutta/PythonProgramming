{
 "cells": [
  {
   "cell_type": "markdown",
   "metadata": {},
   "source": [
    "# Name:Abdul Moiz\n"
   ]
  },
  {
   "cell_type": "markdown",
   "metadata": {},
   "source": [
    "Use a dictionary to store information about a person you know. Store their first name, last name, age,\n",
    "and the city in which they live. You should have keys such as first_name, last_name, age, and city. Print\n",
    "each piece of information stored in your dictionary. Add a new key value pair about qualification then\n",
    "update the qualification value to high academic level then delete it."
   ]
  },
  {
   "cell_type": "code",
   "execution_count": 5,
   "metadata": {},
   "outputs": [
    {
     "name": "stdout",
     "output_type": "stream",
     "text": [
      "Enter first name:Moiz\n",
      "Enter last name:Raza\n",
      "Enter age:21\n",
      "Enter city:Karachi\n",
      "Moiz\n",
      "Raza\n",
      "21\n",
      "Karachi\n",
      "Enter your Qualification:Bachelors\n",
      "Before update {'first_name': 'Moiz', 'last_name': 'Raza', 'age': '21', 'city': 'Karachi', 'Qualification': 'Bachelors'}\n",
      "After update {'first_name': 'Moiz', 'last_name': 'Raza', 'age': '21', 'city': 'Karachi', 'High Academic level': 'Bachelors'}\n"
     ]
    }
   ],
   "source": [
    "dic={}\n",
    "dic1={}\n",
    "first_name_value=input('Enter first name:')\n",
    "last_name_value=input('Enter last name:')\n",
    "age_value=input('Enter age:')\n",
    "city_value=input('Enter city:')\n",
    "dic['first_name']=first_name_value\n",
    "dic['last_name']=last_name_value\n",
    "dic['age']=age_value\n",
    "dic['city']=city_value\n",
    "for name in dic.values():\n",
    "    print(name)\n",
    "qualification_value=input('Enter your Qualification:')\n",
    "dic['Qualification']=qualification_value\n",
    "print('Before update',dic)\n",
    "dic1['High Academic level']=qualification_value\n",
    "dic.update(dic1)\n",
    "del dic['Qualification']\n",
    "print('After update',dic)"
   ]
  },
  {
   "cell_type": "markdown",
   "metadata": {},
   "source": [
    "Make a dictionary called cities. Use the names of three cities as keys in your dictionary. Create a\n",
    "dictionary of information about each city and include the country that the city is in, its approximate\n",
    "population, and one fact about that city. The keys for each city’s dictionary should be something like\n",
    "country, population, and fact. Print the name of each city and all of the information you have stored\n",
    "about it."
   ]
  },
  {
   "cell_type": "code",
   "execution_count": 19,
   "metadata": {},
   "outputs": [
    {
     "name": "stdout",
     "output_type": "stream",
     "text": [
      "Karachi\n",
      "Pakistan\n",
      "14.91 million\n",
      "Biggest city of Pakistan and economical hub\n",
      "Istanbul\n",
      "Turkey\n",
      "15.07 million\n",
      "Istanbul is the only city in the world which is both in Europe and Asia geographicaly\n",
      "Beijing\n",
      "China\n",
      "21.54 million\n",
      "Beijing is the second largest city in China.\n"
     ]
    }
   ],
   "source": [
    "cities={'Karachi':{\n",
    "    'Country':'Pakistan',\n",
    "    'Population':'14.91 million',\n",
    "    'Fact':'Biggest city of Pakistan and economical hub'\n",
    "},\n",
    "        'Istanbul':{\n",
    "    'Country':'Turkey',\n",
    "    'Population':'15.07 million',\n",
    "    'Fact':'Istanbul is the only city in the world which is both in Europe and Asia geographicaly'\n",
    "},\n",
    "        'Beijing':{\n",
    "    'Country':'China',\n",
    "    'Population':'21.54 million',\n",
    "    'Fact':'Beijing is the second largest city in China.'\n",
    "}\n",
    "       }\n",
    "for city,values in cities.items():\n",
    "    print(city)\n",
    "    for value in values.values():\n",
    "        print(value)        "
   ]
  },
  {
   "cell_type": "markdown",
   "metadata": {},
   "source": [
    "A movie theater charges different ticket prices depending on a person’s age. If a person is under the age\n",
    "of 3, the ticket is free; if they are between 3 and 12, the ticket is $10; and if they are over age 12, the\n",
    "ticket is $15. Write a loop in which you ask users their age, and then tell them the cost of their movie\n",
    "ticket."
   ]
  },
  {
   "cell_type": "code",
   "execution_count": 29,
   "metadata": {},
   "outputs": [
    {
     "name": "stdout",
     "output_type": "stream",
     "text": [
      "Enter Number of persons to avail ticket:2\n",
      "Enter your age:21\n",
      "Enter your age:12\n",
      "The cost of your ticket is: 15 $\n",
      "The cost of your ticket is: 10 $\n"
     ]
    }
   ],
   "source": [
    "count=input('Enter Number of persons to avail ticket:')\n",
    "cost=0\n",
    "a=[]\n",
    "for i in range(int(count)):\n",
    "    age=int(input('Enter your age:'))\n",
    "    if age<=3:\n",
    "        cost=0\n",
    "    elif age>3 and age<=12:\n",
    "        cost=10\n",
    "    elif age>12:\n",
    "        cost=15\n",
    "    a.append(cost)\n",
    "for b in a:\n",
    "    print('The cost of your ticket is: '+str(b)+' $')\n"
   ]
  },
  {
   "cell_type": "markdown",
   "metadata": {},
   "source": [
    "Write a function called favorite_book() that accepts one parameter, title. The function should print a\n",
    "message, such as One of my favorite books is Alice in Wonderland. Call the function, making sure to\n",
    "include a book title as an argument in the function call."
   ]
  },
  {
   "cell_type": "code",
   "execution_count": 30,
   "metadata": {},
   "outputs": [
    {
     "name": "stdout",
     "output_type": "stream",
     "text": [
      "Title of bookScience\n",
      "One of my favorite books is Science\n"
     ]
    }
   ],
   "source": [
    "def favorite_book(title):\n",
    "    print('One of my favorite books is '+title)\n",
    "a=input('Title of book')\n",
    "favorite_book(a)\n",
    "\n",
    "    "
   ]
  },
  {
   "cell_type": "markdown",
   "metadata": {},
   "source": [
    "Guess the number game\n",
    "Write a program which randomly generate a number between 1 to 30 and ask the user in input field to\n",
    "guess the correct number. Give three chances to user guess the number and also give hint to user if\n",
    "hidden number is greater or smaller than the number he given to input field."
   ]
  },
  {
   "cell_type": "code",
   "execution_count": 45,
   "metadata": {},
   "outputs": [
    {
     "name": "stdout",
     "output_type": "stream",
     "text": [
      "Enter a number between 1 to 30:21\n",
      "Wrong! Hint=The number is greater then your number\n",
      "Enter a number between 1 to 30:25\n",
      "Wrong! Hint=The number is greater then your number\n",
      "Enter a number between 1 to 30:29\n",
      "Wrong! Hint=The number is lesser then your number\n",
      "Right answer is: 28\n"
     ]
    }
   ],
   "source": [
    "import random\n",
    "a=random.randrange(1,30,1)#takes a range and generates a random number\n",
    "for i in range(3):\n",
    "    b=int(input('Enter a number between 1 to 30:'))\n",
    "    if b==a:\n",
    "        print('You won')\n",
    "    elif b<a:\n",
    "        print('Wrong! Hint=The number is greater then your number')\n",
    "    elif b>a:\n",
    "        print('Wrong! Hint=The number is lesser then your number')\n",
    "print('Right answer is:',a)"
   ]
  }
 ],
 "metadata": {
  "kernelspec": {
   "display_name": "Python 3",
   "language": "python",
   "name": "python3"
  },
  "language_info": {
   "codemirror_mode": {
    "name": "ipython",
    "version": 3
   },
   "file_extension": ".py",
   "mimetype": "text/x-python",
   "name": "python",
   "nbconvert_exporter": "python",
   "pygments_lexer": "ipython3",
   "version": "3.7.3"
  }
 },
 "nbformat": 4,
 "nbformat_minor": 2
}
