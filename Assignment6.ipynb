{
 "cells": [
  {
   "cell_type": "markdown",
   "metadata": {},
   "source": [
    "# Assignment 6 Abdul Moiz Raza"
   ]
  },
  {
   "cell_type": "markdown",
   "metadata": {},
   "source": [
    "Question 1:\n",
    "Define Object Oriented Programming Language?\n",
    "Answer:\n",
    "It's that type of Programming technique in which programmers self defines data type of data structure along with the operations to be held. In this way, the data structure becomes an object that includes both data and functions."
   ]
  },
  {
   "cell_type": "markdown",
   "metadata": {},
   "source": [
    "Question 2:\n",
    "List down the Benefits of OOP?\n",
    "Answer:\n",
    "1. Inheritence Property is that property which makes programming lot easier as we can use the parameters of different objects on other object without rewriting the whole code.\n",
    "2. Reusable objects which makes programming faster\n",
    "3. It provides a clear modular structure for programs.\n",
    "4. Easily adapted and modified by the programmer."
   ]
  },
  {
   "cell_type": "markdown",
   "metadata": {},
   "source": [
    "Question 3:\n",
    "Differentiate between function and method?\n",
    "Answer:\n",
    "Functions that are globally defined in python using def syntax are functions which have some procedural instructions, whereas functions which are defined within a class of python are called Models."
   ]
  },
  {
   "cell_type": "markdown",
   "metadata": {},
   "source": [
    "Question 4:\n",
    "Define the following terms:\n",
    "1. Class\n",
    "2. Object\n",
    "3. Attribute\n",
    "4. Behavior\n",
    "Answer:\n",
    "1. Class:\n",
    "Class is a blueprint for creating objects (a particular data structure).\n",
    "2. Object:\n",
    "An object is nothing but a self-contained component which consists of methods and properties to make a particular type of data useful. Object determines the behavior of the class. When you send a message to an object, you are asking the object to invoke or execute one of its methods.\n",
    "3. Attribute:\n",
    "Attributes are those values for which object would be working at.\n",
    "4. Behavior:\n",
    "A class's behavior determines how an instance of that class operates"
   ]
  },
  {
   "cell_type": "markdown",
   "metadata": {},
   "source": [
    "Question 5:\n",
    "Write a code in python in which create a class named it Car which\n",
    "have 5 attributes such like (model, color and name etc.) and 3\n",
    "methods. And create 5 object instance from that class."
   ]
  },
  {
   "cell_type": "code",
   "execution_count": 5,
   "metadata": {},
   "outputs": [
    {
     "name": "stdout",
     "output_type": "stream",
     "text": [
      "******Car 1 details*******\n",
      "\n",
      "Name of Car is: Honda Civic\n",
      "Top Speed of Car is: 220\n",
      "Model Year of Car is: 2014\n",
      "Color of Car is: Black\n",
      "Engine of Car is: 1300CC\n",
      "\n",
      "\n",
      "******Car 2 details*******\n",
      "\n",
      "Name of Car is: Toyota Corolla\n",
      "Top Speed of Car is: 200\n",
      "Model Year of Car is: 2012\n",
      "Color of Car is: Gray\n",
      "Engine of Car is: 1300CC\n",
      "\n",
      "\n",
      "Old Name: Honda Civic\n",
      "New Name: Honda City\n",
      "\n",
      "\n",
      "Old Color of Car2: Gray\n",
      "New Color of Car2: Blue\n",
      "\n",
      "\n",
      "Old Top speed of Car1 is: 220\n",
      "New Top speed of Car1 is: 240\n"
     ]
    }
   ],
   "source": [
    "class Car():\n",
    "    def __init__(self,CarName,TopSpeed,Model,Color,Engine):\n",
    "        #5 attributes\n",
    "        self.CarName=CarName\n",
    "        self.TopSpeed=TopSpeed\n",
    "        self.Model=Model\n",
    "        self.Color=Color\n",
    "        self.Engine=Engine \n",
    "    #New Method 1\n",
    "    def updateCarName(self,NewName):\n",
    "        self.CarName=NewName\n",
    "    #New Method 2\n",
    "    def updateColor(self,NewColor):\n",
    "        self.Color=NewColor\n",
    "    #New Method 3\n",
    "    def updateSpeed(self,NewTopSpeed):\n",
    "        self.TopSpeed+=NewTopSpeed\n",
    "\n",
    "#instance No.1\n",
    "Car1=Car('Honda Civic',220,2014,'Black','1300CC')\n",
    "#instance No.2\n",
    "Car2=Car('Toyota Corolla',200,2012,'Gray','1300CC')\n",
    "print('******Car 1 details*******\\n')\n",
    "print('Name of Car is:',Car1.CarName)\n",
    "print('Top Speed of Car is:',Car1.TopSpeed)\n",
    "print('Model Year of Car is:',Car1.Model)\n",
    "print('Color of Car is:',Car1.Color)\n",
    "print('Engine of Car is:',Car1.Engine)\n",
    "print('\\n')\n",
    "print('******Car 2 details*******\\n')\n",
    "print('Name of Car is:',Car2.CarName)\n",
    "print('Top Speed of Car is:',Car2.TopSpeed)\n",
    "print('Model Year of Car is:',Car2.Model)\n",
    "print('Color of Car is:',Car2.Color)\n",
    "print('Engine of Car is:',Car2.Engine)\n",
    "print('\\n')\n",
    "print('Old Name:',Car1.CarName)\n",
    "#instance No.3\n",
    "Car1.updateCarName('Honda City')\n",
    "print('New Name:',Car1.CarName)\n",
    "print('\\n')\n",
    "print('Old Color of Car2:',Car2.Color)\n",
    "#instance No.4\n",
    "Car2.updateColor('Blue')\n",
    "print('New Color of Car2:',Car2.Color)\n",
    "print('\\n')\n",
    "print('Old Top speed of Car1 is:',Car1.TopSpeed)\n",
    "#instance No.5\n",
    "Car1.updateSpeed(20)\n",
    "print('New Top speed of Car1 is:',Car1.TopSpeed)\n",
    "\n"
   ]
  },
  {
   "cell_type": "code",
   "execution_count": null,
   "metadata": {},
   "outputs": [],
   "source": []
  }
 ],
 "metadata": {
  "kernelspec": {
   "display_name": "Python 3",
   "language": "python",
   "name": "python3"
  },
  "language_info": {
   "codemirror_mode": {
    "name": "ipython",
    "version": 3
   },
   "file_extension": ".py",
   "mimetype": "text/x-python",
   "name": "python",
   "nbconvert_exporter": "python",
   "pygments_lexer": "ipython3",
   "version": "3.7.3"
  }
 },
 "nbformat": 4,
 "nbformat_minor": 2
}
